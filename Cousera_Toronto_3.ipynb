{
  "nbformat": 4,
  "nbformat_minor": 0,
  "metadata": {
    "colab": {
      "name": "Cousera_Toronto_3.ipynb",
      "provenance": [],
      "collapsed_sections": [],
      "authorship_tag": "ABX9TyNInta3bH07B1mxQDwR1NCu",
      "include_colab_link": true
    },
    "kernelspec": {
      "name": "python3",
      "display_name": "Python 3"
    }
  },
  "cells": [
    {
      "cell_type": "markdown",
      "metadata": {
        "id": "view-in-github",
        "colab_type": "text"
      },
      "source": [
        "<a href=\"https://colab.research.google.com/github/Aifa-Chris/Cousera_Capstone/blob/master/Cousera_Toronto_3.ipynb\" target=\"_parent\"><img src=\"https://colab.research.google.com/assets/colab-badge.svg\" alt=\"Open In Colab\"/></a>"
      ]
    },
    {
      "cell_type": "code",
      "metadata": {
        "id": "EeT2E-JBMdFX",
        "colab_type": "code",
        "colab": {
          "base_uri": "https://localhost:8080/",
          "height": 289
        },
        "outputId": "3551a2de-6da0-498b-bfa9-b29d7bdb81c3"
      },
      "source": [
        "import pandas as pd\n",
        "import numpy as np\n",
        "import requests\n",
        "\n",
        "! pip install geocoder\n",
        "import geocoder \n",
        "\n"
      ],
      "execution_count": 65,
      "outputs": [
        {
          "output_type": "stream",
          "text": [
            "Collecting geocoder\n",
            "\u001b[?25l  Downloading https://files.pythonhosted.org/packages/4f/6b/13166c909ad2f2d76b929a4227c952630ebaf0d729f6317eb09cbceccbab/geocoder-1.38.1-py2.py3-none-any.whl (98kB)\n",
            "\r\u001b[K     |███▎                            | 10kB 20.8MB/s eta 0:00:01\r\u001b[K     |██████▋                         | 20kB 1.7MB/s eta 0:00:01\r\u001b[K     |██████████                      | 30kB 2.5MB/s eta 0:00:01\r\u001b[K     |█████████████▎                  | 40kB 1.7MB/s eta 0:00:01\r\u001b[K     |████████████████▋               | 51kB 2.1MB/s eta 0:00:01\r\u001b[K     |████████████████████            | 61kB 2.5MB/s eta 0:00:01\r\u001b[K     |███████████████████████▎        | 71kB 2.9MB/s eta 0:00:01\r\u001b[K     |██████████████████████████▋     | 81kB 3.2MB/s eta 0:00:01\r\u001b[K     |██████████████████████████████  | 92kB 2.5MB/s eta 0:00:01\r\u001b[K     |████████████████████████████████| 102kB 2.4MB/s \n",
            "\u001b[?25hRequirement already satisfied: requests in /usr/local/lib/python3.6/dist-packages (from geocoder) (2.21.0)\n",
            "Requirement already satisfied: future in /usr/local/lib/python3.6/dist-packages (from geocoder) (0.16.0)\n",
            "Collecting ratelim\n",
            "  Downloading https://files.pythonhosted.org/packages/f2/98/7e6d147fd16a10a5f821db6e25f192265d6ecca3d82957a4fdd592cad49c/ratelim-0.1.6-py2.py3-none-any.whl\n",
            "Requirement already satisfied: click in /usr/local/lib/python3.6/dist-packages (from geocoder) (7.1.1)\n",
            "Requirement already satisfied: six in /usr/local/lib/python3.6/dist-packages (from geocoder) (1.12.0)\n",
            "Requirement already satisfied: chardet<3.1.0,>=3.0.2 in /usr/local/lib/python3.6/dist-packages (from requests->geocoder) (3.0.4)\n",
            "Requirement already satisfied: urllib3<1.25,>=1.21.1 in /usr/local/lib/python3.6/dist-packages (from requests->geocoder) (1.24.3)\n",
            "Requirement already satisfied: idna<2.9,>=2.5 in /usr/local/lib/python3.6/dist-packages (from requests->geocoder) (2.8)\n",
            "Requirement already satisfied: certifi>=2017.4.17 in /usr/local/lib/python3.6/dist-packages (from requests->geocoder) (2019.11.28)\n",
            "Requirement already satisfied: decorator in /usr/local/lib/python3.6/dist-packages (from ratelim->geocoder) (4.4.2)\n",
            "Installing collected packages: ratelim, geocoder\n",
            "Successfully installed geocoder-1.38.1 ratelim-0.1.6\n"
          ],
          "name": "stdout"
        }
      ]
    },
    {
      "cell_type": "code",
      "metadata": {
        "id": "q-Y4DQ3wMmtY",
        "colab_type": "code",
        "colab": {
          "base_uri": "https://localhost:8080/",
          "height": 359
        },
        "outputId": "78e1db2c-241e-4d5e-b9c0-cc0bdc39f0e5"
      },
      "source": [
        "data = \"https://en.wikipedia.org/w/index.php?title=List_of_postal_codes_of_Canada:_M&oldid=890001695\"\n",
        "Toronto = pd.read_html(data)[0]\n",
        "Toronto.head(10)\n",
        "# Make the dataframe (Using old html link)"
      ],
      "execution_count": 59,
      "outputs": [
        {
          "output_type": "execute_result",
          "data": {
            "text/html": [
              "<div>\n",
              "<style scoped>\n",
              "    .dataframe tbody tr th:only-of-type {\n",
              "        vertical-align: middle;\n",
              "    }\n",
              "\n",
              "    .dataframe tbody tr th {\n",
              "        vertical-align: top;\n",
              "    }\n",
              "\n",
              "    .dataframe thead th {\n",
              "        text-align: right;\n",
              "    }\n",
              "</style>\n",
              "<table border=\"1\" class=\"dataframe\">\n",
              "  <thead>\n",
              "    <tr style=\"text-align: right;\">\n",
              "      <th></th>\n",
              "      <th>Postcode</th>\n",
              "      <th>Borough</th>\n",
              "      <th>Neighbourhood</th>\n",
              "    </tr>\n",
              "  </thead>\n",
              "  <tbody>\n",
              "    <tr>\n",
              "      <th>0</th>\n",
              "      <td>M1A</td>\n",
              "      <td>Not assigned</td>\n",
              "      <td>Not assigned</td>\n",
              "    </tr>\n",
              "    <tr>\n",
              "      <th>1</th>\n",
              "      <td>M2A</td>\n",
              "      <td>Not assigned</td>\n",
              "      <td>Not assigned</td>\n",
              "    </tr>\n",
              "    <tr>\n",
              "      <th>2</th>\n",
              "      <td>M3A</td>\n",
              "      <td>North York</td>\n",
              "      <td>Parkwoods</td>\n",
              "    </tr>\n",
              "    <tr>\n",
              "      <th>3</th>\n",
              "      <td>M4A</td>\n",
              "      <td>North York</td>\n",
              "      <td>Victoria Village</td>\n",
              "    </tr>\n",
              "    <tr>\n",
              "      <th>4</th>\n",
              "      <td>M5A</td>\n",
              "      <td>Downtown Toronto</td>\n",
              "      <td>Harbourfront</td>\n",
              "    </tr>\n",
              "    <tr>\n",
              "      <th>5</th>\n",
              "      <td>M5A</td>\n",
              "      <td>Downtown Toronto</td>\n",
              "      <td>Regent Park</td>\n",
              "    </tr>\n",
              "    <tr>\n",
              "      <th>6</th>\n",
              "      <td>M6A</td>\n",
              "      <td>North York</td>\n",
              "      <td>Lawrence Heights</td>\n",
              "    </tr>\n",
              "    <tr>\n",
              "      <th>7</th>\n",
              "      <td>M6A</td>\n",
              "      <td>North York</td>\n",
              "      <td>Lawrence Manor</td>\n",
              "    </tr>\n",
              "    <tr>\n",
              "      <th>8</th>\n",
              "      <td>M7A</td>\n",
              "      <td>Queen's Park</td>\n",
              "      <td>Not assigned</td>\n",
              "    </tr>\n",
              "    <tr>\n",
              "      <th>9</th>\n",
              "      <td>M8A</td>\n",
              "      <td>Not assigned</td>\n",
              "      <td>Not assigned</td>\n",
              "    </tr>\n",
              "  </tbody>\n",
              "</table>\n",
              "</div>"
            ],
            "text/plain": [
              "  Postcode           Borough     Neighbourhood\n",
              "0      M1A      Not assigned      Not assigned\n",
              "1      M2A      Not assigned      Not assigned\n",
              "2      M3A        North York         Parkwoods\n",
              "3      M4A        North York  Victoria Village\n",
              "4      M5A  Downtown Toronto      Harbourfront\n",
              "5      M5A  Downtown Toronto       Regent Park\n",
              "6      M6A        North York  Lawrence Heights\n",
              "7      M6A        North York    Lawrence Manor\n",
              "8      M7A      Queen's Park      Not assigned\n",
              "9      M8A      Not assigned      Not assigned"
            ]
          },
          "metadata": {
            "tags": []
          },
          "execution_count": 59
        }
      ]
    },
    {
      "cell_type": "code",
      "metadata": {
        "id": "FLwh9KXHN8an",
        "colab_type": "code",
        "colab": {
          "base_uri": "https://localhost:8080/",
          "height": 419
        },
        "outputId": "f905a27d-36e8-4ec2-d8c8-c59cf9e8cd6a"
      },
      "source": [
        "Toronto1 = Toronto.replace('Not assigned', np.nan)\n",
        "Toronto2 = Toronto1.dropna()\n",
        "Toronto2\n",
        "#Prepping data for dropna(), droping NaN"
      ],
      "execution_count": 60,
      "outputs": [
        {
          "output_type": "execute_result",
          "data": {
            "text/html": [
              "<div>\n",
              "<style scoped>\n",
              "    .dataframe tbody tr th:only-of-type {\n",
              "        vertical-align: middle;\n",
              "    }\n",
              "\n",
              "    .dataframe tbody tr th {\n",
              "        vertical-align: top;\n",
              "    }\n",
              "\n",
              "    .dataframe thead th {\n",
              "        text-align: right;\n",
              "    }\n",
              "</style>\n",
              "<table border=\"1\" class=\"dataframe\">\n",
              "  <thead>\n",
              "    <tr style=\"text-align: right;\">\n",
              "      <th></th>\n",
              "      <th>Postcode</th>\n",
              "      <th>Borough</th>\n",
              "      <th>Neighbourhood</th>\n",
              "    </tr>\n",
              "  </thead>\n",
              "  <tbody>\n",
              "    <tr>\n",
              "      <th>2</th>\n",
              "      <td>M3A</td>\n",
              "      <td>North York</td>\n",
              "      <td>Parkwoods</td>\n",
              "    </tr>\n",
              "    <tr>\n",
              "      <th>3</th>\n",
              "      <td>M4A</td>\n",
              "      <td>North York</td>\n",
              "      <td>Victoria Village</td>\n",
              "    </tr>\n",
              "    <tr>\n",
              "      <th>4</th>\n",
              "      <td>M5A</td>\n",
              "      <td>Downtown Toronto</td>\n",
              "      <td>Harbourfront</td>\n",
              "    </tr>\n",
              "    <tr>\n",
              "      <th>5</th>\n",
              "      <td>M5A</td>\n",
              "      <td>Downtown Toronto</td>\n",
              "      <td>Regent Park</td>\n",
              "    </tr>\n",
              "    <tr>\n",
              "      <th>6</th>\n",
              "      <td>M6A</td>\n",
              "      <td>North York</td>\n",
              "      <td>Lawrence Heights</td>\n",
              "    </tr>\n",
              "    <tr>\n",
              "      <th>...</th>\n",
              "      <td>...</td>\n",
              "      <td>...</td>\n",
              "      <td>...</td>\n",
              "    </tr>\n",
              "    <tr>\n",
              "      <th>282</th>\n",
              "      <td>M8Z</td>\n",
              "      <td>Etobicoke</td>\n",
              "      <td>Kingsway Park South West</td>\n",
              "    </tr>\n",
              "    <tr>\n",
              "      <th>283</th>\n",
              "      <td>M8Z</td>\n",
              "      <td>Etobicoke</td>\n",
              "      <td>Mimico NW</td>\n",
              "    </tr>\n",
              "    <tr>\n",
              "      <th>284</th>\n",
              "      <td>M8Z</td>\n",
              "      <td>Etobicoke</td>\n",
              "      <td>The Queensway West</td>\n",
              "    </tr>\n",
              "    <tr>\n",
              "      <th>285</th>\n",
              "      <td>M8Z</td>\n",
              "      <td>Etobicoke</td>\n",
              "      <td>Royal York South West</td>\n",
              "    </tr>\n",
              "    <tr>\n",
              "      <th>286</th>\n",
              "      <td>M8Z</td>\n",
              "      <td>Etobicoke</td>\n",
              "      <td>South of Bloor</td>\n",
              "    </tr>\n",
              "  </tbody>\n",
              "</table>\n",
              "<p>210 rows × 3 columns</p>\n",
              "</div>"
            ],
            "text/plain": [
              "    Postcode           Borough             Neighbourhood\n",
              "2        M3A        North York                 Parkwoods\n",
              "3        M4A        North York          Victoria Village\n",
              "4        M5A  Downtown Toronto              Harbourfront\n",
              "5        M5A  Downtown Toronto               Regent Park\n",
              "6        M6A        North York          Lawrence Heights\n",
              "..       ...               ...                       ...\n",
              "282      M8Z         Etobicoke  Kingsway Park South West\n",
              "283      M8Z         Etobicoke                 Mimico NW\n",
              "284      M8Z         Etobicoke        The Queensway West\n",
              "285      M8Z         Etobicoke     Royal York South West\n",
              "286      M8Z         Etobicoke            South of Bloor\n",
              "\n",
              "[210 rows x 3 columns]"
            ]
          },
          "metadata": {
            "tags": []
          },
          "execution_count": 60
        }
      ]
    },
    {
      "cell_type": "code",
      "metadata": {
        "id": "YpRsQdo7Mrli",
        "colab_type": "code",
        "colab": {
          "base_uri": "https://localhost:8080/",
          "height": 450
        },
        "outputId": "4101e631-620c-4988-ec10-18b0982d78b6"
      },
      "source": [
        "Toronto3= Toronto2.groupby(['Postcode', 'Borough']).agg(lambda x:\" , \".join(x))\n",
        "Toronto3\n",
        "#Grouping by Postcode, Borough"
      ],
      "execution_count": 81,
      "outputs": [
        {
          "output_type": "execute_result",
          "data": {
            "text/html": [
              "<div>\n",
              "<style scoped>\n",
              "    .dataframe tbody tr th:only-of-type {\n",
              "        vertical-align: middle;\n",
              "    }\n",
              "\n",
              "    .dataframe tbody tr th {\n",
              "        vertical-align: top;\n",
              "    }\n",
              "\n",
              "    .dataframe thead th {\n",
              "        text-align: right;\n",
              "    }\n",
              "</style>\n",
              "<table border=\"1\" class=\"dataframe\">\n",
              "  <thead>\n",
              "    <tr style=\"text-align: right;\">\n",
              "      <th></th>\n",
              "      <th></th>\n",
              "      <th>Neighbourhood</th>\n",
              "    </tr>\n",
              "    <tr>\n",
              "      <th>Postcode</th>\n",
              "      <th>Borough</th>\n",
              "      <th></th>\n",
              "    </tr>\n",
              "  </thead>\n",
              "  <tbody>\n",
              "    <tr>\n",
              "      <th>M1B</th>\n",
              "      <th>Scarborough</th>\n",
              "      <td>Rouge , Malvern</td>\n",
              "    </tr>\n",
              "    <tr>\n",
              "      <th>M1C</th>\n",
              "      <th>Scarborough</th>\n",
              "      <td>Highland Creek , Rouge Hill , Port Union</td>\n",
              "    </tr>\n",
              "    <tr>\n",
              "      <th>M1E</th>\n",
              "      <th>Scarborough</th>\n",
              "      <td>Guildwood , Morningside , West Hill</td>\n",
              "    </tr>\n",
              "    <tr>\n",
              "      <th>M1G</th>\n",
              "      <th>Scarborough</th>\n",
              "      <td>Woburn</td>\n",
              "    </tr>\n",
              "    <tr>\n",
              "      <th>M1H</th>\n",
              "      <th>Scarborough</th>\n",
              "      <td>Cedarbrae</td>\n",
              "    </tr>\n",
              "    <tr>\n",
              "      <th>...</th>\n",
              "      <th>...</th>\n",
              "      <td>...</td>\n",
              "    </tr>\n",
              "    <tr>\n",
              "      <th>M9N</th>\n",
              "      <th>York</th>\n",
              "      <td>Weston</td>\n",
              "    </tr>\n",
              "    <tr>\n",
              "      <th>M9P</th>\n",
              "      <th>Etobicoke</th>\n",
              "      <td>Westmount</td>\n",
              "    </tr>\n",
              "    <tr>\n",
              "      <th>M9R</th>\n",
              "      <th>Etobicoke</th>\n",
              "      <td>Kingsview Village , Martin Grove Gardens , Ric...</td>\n",
              "    </tr>\n",
              "    <tr>\n",
              "      <th>M9V</th>\n",
              "      <th>Etobicoke</th>\n",
              "      <td>Albion Gardens , Beaumond Heights , Humbergate...</td>\n",
              "    </tr>\n",
              "    <tr>\n",
              "      <th>M9W</th>\n",
              "      <th>Etobicoke</th>\n",
              "      <td>Northwest</td>\n",
              "    </tr>\n",
              "  </tbody>\n",
              "</table>\n",
              "<p>102 rows × 1 columns</p>\n",
              "</div>"
            ],
            "text/plain": [
              "                                                          Neighbourhood\n",
              "Postcode Borough                                                       \n",
              "M1B      Scarborough                                    Rouge , Malvern\n",
              "M1C      Scarborough           Highland Creek , Rouge Hill , Port Union\n",
              "M1E      Scarborough                Guildwood , Morningside , West Hill\n",
              "M1G      Scarborough                                             Woburn\n",
              "M1H      Scarborough                                          Cedarbrae\n",
              "...                                                                 ...\n",
              "M9N      York                                                    Weston\n",
              "M9P      Etobicoke                                            Westmount\n",
              "M9R      Etobicoke    Kingsview Village , Martin Grove Gardens , Ric...\n",
              "M9V      Etobicoke    Albion Gardens , Beaumond Heights , Humbergate...\n",
              "M9W      Etobicoke                                            Northwest\n",
              "\n",
              "[102 rows x 1 columns]"
            ]
          },
          "metadata": {
            "tags": []
          },
          "execution_count": 81
        }
      ]
    },
    {
      "cell_type": "code",
      "metadata": {
        "id": "iTkxVPwZPP8X",
        "colab_type": "code",
        "colab": {
          "base_uri": "https://localhost:8080/",
          "height": 34
        },
        "outputId": "fc13d4c6-dcb2-45b8-c37a-169d42a2a212"
      },
      "source": [
        "Toronto3.shape"
      ],
      "execution_count": 62,
      "outputs": [
        {
          "output_type": "execute_result",
          "data": {
            "text/plain": [
              "(102, 1)"
            ]
          },
          "metadata": {
            "tags": []
          },
          "execution_count": 62
        }
      ]
    },
    {
      "cell_type": "code",
      "metadata": {
        "id": "Fhji_-QIdvSP",
        "colab_type": "code",
        "colab": {
          "base_uri": "https://localhost:8080/",
          "height": 204
        },
        "outputId": "87145290-2299-436b-efb2-65f8a8b6bced"
      },
      "source": [
        "#Load coordinates, rename column to match\n",
        "Coordinates = pd.read_csv('Geospatial_Coordinates.csv')\n",
        "Coordinates1= Coordinates.rename(columns={'Postal Code':'Postcode'})\n",
        "Coordinates1.head()"
      ],
      "execution_count": 91,
      "outputs": [
        {
          "output_type": "execute_result",
          "data": {
            "text/html": [
              "<div>\n",
              "<style scoped>\n",
              "    .dataframe tbody tr th:only-of-type {\n",
              "        vertical-align: middle;\n",
              "    }\n",
              "\n",
              "    .dataframe tbody tr th {\n",
              "        vertical-align: top;\n",
              "    }\n",
              "\n",
              "    .dataframe thead th {\n",
              "        text-align: right;\n",
              "    }\n",
              "</style>\n",
              "<table border=\"1\" class=\"dataframe\">\n",
              "  <thead>\n",
              "    <tr style=\"text-align: right;\">\n",
              "      <th></th>\n",
              "      <th>Postcode</th>\n",
              "      <th>Latitude</th>\n",
              "      <th>Longitude</th>\n",
              "    </tr>\n",
              "  </thead>\n",
              "  <tbody>\n",
              "    <tr>\n",
              "      <th>0</th>\n",
              "      <td>M1B</td>\n",
              "      <td>43.806686</td>\n",
              "      <td>-79.194353</td>\n",
              "    </tr>\n",
              "    <tr>\n",
              "      <th>1</th>\n",
              "      <td>M1C</td>\n",
              "      <td>43.784535</td>\n",
              "      <td>-79.160497</td>\n",
              "    </tr>\n",
              "    <tr>\n",
              "      <th>2</th>\n",
              "      <td>M1E</td>\n",
              "      <td>43.763573</td>\n",
              "      <td>-79.188711</td>\n",
              "    </tr>\n",
              "    <tr>\n",
              "      <th>3</th>\n",
              "      <td>M1G</td>\n",
              "      <td>43.770992</td>\n",
              "      <td>-79.216917</td>\n",
              "    </tr>\n",
              "    <tr>\n",
              "      <th>4</th>\n",
              "      <td>M1H</td>\n",
              "      <td>43.773136</td>\n",
              "      <td>-79.239476</td>\n",
              "    </tr>\n",
              "  </tbody>\n",
              "</table>\n",
              "</div>"
            ],
            "text/plain": [
              "  Postcode   Latitude  Longitude\n",
              "0      M1B  43.806686 -79.194353\n",
              "1      M1C  43.784535 -79.160497\n",
              "2      M1E  43.763573 -79.188711\n",
              "3      M1G  43.770992 -79.216917\n",
              "4      M1H  43.773136 -79.239476"
            ]
          },
          "metadata": {
            "tags": []
          },
          "execution_count": 91
        }
      ]
    },
    {
      "cell_type": "code",
      "metadata": {
        "id": "xe3P7kGAeCr_",
        "colab_type": "code",
        "colab": {
          "base_uri": "https://localhost:8080/",
          "height": 419
        },
        "outputId": "58366bc8-0f11-4bf2-f6b6-d180d86ab47c"
      },
      "source": [
        "# Merge dataframes\n",
        "Toronto4 = Toronto3.merge(Coordinates1, on='Postcode', how=\"left\")\n",
        "Toronto4"
      ],
      "execution_count": 216,
      "outputs": [
        {
          "output_type": "execute_result",
          "data": {
            "text/html": [
              "<div>\n",
              "<style scoped>\n",
              "    .dataframe tbody tr th:only-of-type {\n",
              "        vertical-align: middle;\n",
              "    }\n",
              "\n",
              "    .dataframe tbody tr th {\n",
              "        vertical-align: top;\n",
              "    }\n",
              "\n",
              "    .dataframe thead th {\n",
              "        text-align: right;\n",
              "    }\n",
              "</style>\n",
              "<table border=\"1\" class=\"dataframe\">\n",
              "  <thead>\n",
              "    <tr style=\"text-align: right;\">\n",
              "      <th></th>\n",
              "      <th>Postcode</th>\n",
              "      <th>Neighbourhood</th>\n",
              "      <th>Latitude</th>\n",
              "      <th>Longitude</th>\n",
              "    </tr>\n",
              "  </thead>\n",
              "  <tbody>\n",
              "    <tr>\n",
              "      <th>0</th>\n",
              "      <td>M1B</td>\n",
              "      <td>Rouge , Malvern</td>\n",
              "      <td>43.806686</td>\n",
              "      <td>-79.194353</td>\n",
              "    </tr>\n",
              "    <tr>\n",
              "      <th>1</th>\n",
              "      <td>M1C</td>\n",
              "      <td>Highland Creek , Rouge Hill , Port Union</td>\n",
              "      <td>43.784535</td>\n",
              "      <td>-79.160497</td>\n",
              "    </tr>\n",
              "    <tr>\n",
              "      <th>2</th>\n",
              "      <td>M1E</td>\n",
              "      <td>Guildwood , Morningside , West Hill</td>\n",
              "      <td>43.763573</td>\n",
              "      <td>-79.188711</td>\n",
              "    </tr>\n",
              "    <tr>\n",
              "      <th>3</th>\n",
              "      <td>M1G</td>\n",
              "      <td>Woburn</td>\n",
              "      <td>43.770992</td>\n",
              "      <td>-79.216917</td>\n",
              "    </tr>\n",
              "    <tr>\n",
              "      <th>4</th>\n",
              "      <td>M1H</td>\n",
              "      <td>Cedarbrae</td>\n",
              "      <td>43.773136</td>\n",
              "      <td>-79.239476</td>\n",
              "    </tr>\n",
              "    <tr>\n",
              "      <th>...</th>\n",
              "      <td>...</td>\n",
              "      <td>...</td>\n",
              "      <td>...</td>\n",
              "      <td>...</td>\n",
              "    </tr>\n",
              "    <tr>\n",
              "      <th>97</th>\n",
              "      <td>M9N</td>\n",
              "      <td>Weston</td>\n",
              "      <td>43.706876</td>\n",
              "      <td>-79.518188</td>\n",
              "    </tr>\n",
              "    <tr>\n",
              "      <th>98</th>\n",
              "      <td>M9P</td>\n",
              "      <td>Westmount</td>\n",
              "      <td>43.696319</td>\n",
              "      <td>-79.532242</td>\n",
              "    </tr>\n",
              "    <tr>\n",
              "      <th>99</th>\n",
              "      <td>M9R</td>\n",
              "      <td>Kingsview Village , Martin Grove Gardens , Ric...</td>\n",
              "      <td>43.688905</td>\n",
              "      <td>-79.554724</td>\n",
              "    </tr>\n",
              "    <tr>\n",
              "      <th>100</th>\n",
              "      <td>M9V</td>\n",
              "      <td>Albion Gardens , Beaumond Heights , Humbergate...</td>\n",
              "      <td>43.739416</td>\n",
              "      <td>-79.588437</td>\n",
              "    </tr>\n",
              "    <tr>\n",
              "      <th>101</th>\n",
              "      <td>M9W</td>\n",
              "      <td>Northwest</td>\n",
              "      <td>43.706748</td>\n",
              "      <td>-79.594054</td>\n",
              "    </tr>\n",
              "  </tbody>\n",
              "</table>\n",
              "<p>102 rows × 4 columns</p>\n",
              "</div>"
            ],
            "text/plain": [
              "    Postcode  ...  Longitude\n",
              "0        M1B  ... -79.194353\n",
              "1        M1C  ... -79.160497\n",
              "2        M1E  ... -79.188711\n",
              "3        M1G  ... -79.216917\n",
              "4        M1H  ... -79.239476\n",
              "..       ...  ...        ...\n",
              "97       M9N  ... -79.518188\n",
              "98       M9P  ... -79.532242\n",
              "99       M9R  ... -79.554724\n",
              "100      M9V  ... -79.588437\n",
              "101      M9W  ... -79.594054\n",
              "\n",
              "[102 rows x 4 columns]"
            ]
          },
          "metadata": {
            "tags": []
          },
          "execution_count": 216
        }
      ]
    },
    {
      "cell_type": "code",
      "metadata": {
        "id": "7iyvtXfB4CE0",
        "colab_type": "code",
        "colab": {
          "base_uri": "https://localhost:8080/",
          "height": 97
        },
        "outputId": "62772ef0-f7f4-4b42-f282-7c4c17a50fbd"
      },
      "source": [
        "Search = Toronto4.loc[Toronto4.Neighbourhood == 'Church and Wellesley']\n",
        "Search\n"
      ],
      "execution_count": 226,
      "outputs": [
        {
          "output_type": "stream",
          "text": [
            "ERROR! Session/line number was not unique in database. History logging moved to new session 70\n"
          ],
          "name": "stdout"
        },
        {
          "output_type": "execute_result",
          "data": {
            "text/html": [
              "<div>\n",
              "<style scoped>\n",
              "    .dataframe tbody tr th:only-of-type {\n",
              "        vertical-align: middle;\n",
              "    }\n",
              "\n",
              "    .dataframe tbody tr th {\n",
              "        vertical-align: top;\n",
              "    }\n",
              "\n",
              "    .dataframe thead th {\n",
              "        text-align: right;\n",
              "    }\n",
              "</style>\n",
              "<table border=\"1\" class=\"dataframe\">\n",
              "  <thead>\n",
              "    <tr style=\"text-align: right;\">\n",
              "      <th></th>\n",
              "      <th>Postcode</th>\n",
              "      <th>Neighbourhood</th>\n",
              "      <th>Latitude</th>\n",
              "      <th>Longitude</th>\n",
              "    </tr>\n",
              "  </thead>\n",
              "  <tbody>\n",
              "    <tr>\n",
              "      <th>52</th>\n",
              "      <td>M4Y</td>\n",
              "      <td>Church and Wellesley</td>\n",
              "      <td>43.66586</td>\n",
              "      <td>-79.38316</td>\n",
              "    </tr>\n",
              "  </tbody>\n",
              "</table>\n",
              "</div>"
            ],
            "text/plain": [
              "   Postcode         Neighbourhood  Latitude  Longitude\n",
              "52      M4Y  Church and Wellesley  43.66586  -79.38316"
            ]
          },
          "metadata": {
            "tags": []
          },
          "execution_count": 226
        }
      ]
    },
    {
      "cell_type": "code",
      "metadata": {
        "id": "Nlj6u7L_kevI",
        "colab_type": "code",
        "colab": {}
      },
      "source": [
        "|import folium"
      ],
      "execution_count": 0,
      "outputs": []
    },
    {
      "cell_type": "code",
      "metadata": {
        "id": "cAWmNbl1kgSz",
        "colab_type": "code",
        "colab": {}
      },
      "source": [
        "Canada_map=folium.Map(location=[43.806686,-79.194353], zoom_start=8)\n",
        "Canada_map\n"
      ],
      "execution_count": 0,
      "outputs": []
    },
    {
      "cell_type": "code",
      "metadata": {
        "id": "BQX1N5zqkkbr",
        "colab_type": "code",
        "colab": {
          "base_uri": "https://localhost:8080/",
          "height": 1000
        },
        "outputId": "b1837a5a-72f8-44b0-f0fa-bd4040d2d584"
      },
      "source": [
        "map_Toronto = folium.Map(location=[43.806686,-79.194353], zoom_start=10.5)\n",
        "\n",
        "# add Neighbourhoods to map\n",
        "for lat, lng, Neighbourhood in zip(Toronto4['Latitude'], Toronto4['Longitude'], Toronto4['Neighbourhood']):\n",
        "    label = '{}'.format(Neighbourhood)\n",
        "    label = folium.Popup(label, parse_html=True)\n",
        "    folium.CircleMarker(\n",
        "        [lat, lng],\n",
        "        radius=5,\n",
        "        popup=label,\n",
        "        color='blue',\n",
        "        fill=True,\n",
        "        fill_color='#3186cc',\n",
        "        fill_opacity=0.7,\n",
        "        parse_html=False).add_to(map_Toronto)  \n",
        "    \n",
        "map_Toronto"
      ],
      "execution_count": 202,
      "outputs": [
        {
          "output_type": "execute_result",
          "data": {
            "text/html": [
              "<div style=\"width:100%;\"><div style=\"position:relative;width:100%;height:0;padding-bottom:60%;\"><iframe src=\"about:blank\" style=\"position:absolute;width:100%;height:100%;left:0;top:0;border:none !important;\" data-html=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 onload=\"this.contentDocument.open();this.contentDocument.write(atob(this.getAttribute('data-html')));this.contentDocument.close();\" allowfullscreen webkitallowfullscreen mozallowfullscreen></iframe></div></div>"
            ],
            "text/plain": [
              "<folium.folium.Map at 0x7f840373e908>"
            ]
          },
          "metadata": {
            "tags": []
          },
          "execution_count": 202
        }
      ]
    },
    {
      "cell_type": "code",
      "metadata": {
        "id": "xZI4EmIUlkW7",
        "colab_type": "code",
        "colab": {
          "base_uri": "https://localhost:8080/",
          "height": 68
        },
        "outputId": "e86d17e2-45de-48af-a8ba-0d0553747f84"
      },
      "source": [
        "CLIENT_ID = '1SHMANHM4J44TRJGHF1PXMBNUG0BDB5J2LJ3RN0VRYQPZZVP' # your Foursquare ID\n",
        "CLIENT_SECRET = 'ORLLNBGEVE1I24KFEHUNFZUHE1MX54T1DRE5C2RYJIL3ANQI' # your Foursquare Secret\n",
        "VERSION = '20180605' # Foursquare API version\n",
        "\n",
        "print('Your credentails:')\n",
        "print('CLIENT_ID: ' + CLIENT_ID)\n",
        "print('CLIENT_SECRET:' + CLIENT_SECRET)"
      ],
      "execution_count": 203,
      "outputs": [
        {
          "output_type": "stream",
          "text": [
            "Your credentails:\n",
            "CLIENT_ID: 1SHMANHM4J44TRJGHF1PXMBNUG0BDB5J2LJ3RN0VRYQPZZVP\n",
            "CLIENT_SECRET:ORLLNBGEVE1I24KFEHUNFZUHE1MX54T1DRE5C2RYJIL3ANQI\n"
          ],
          "name": "stdout"
        }
      ]
    },
    {
      "cell_type": "code",
      "metadata": {
        "id": "8xmLAWG-sTGr",
        "colab_type": "code",
        "colab": {}
      },
      "source": [
        "Toronto4.loc[53,'Neighbourhood']\n",
        "neighbourhood_latitude=Toronto4.loc[53, 'Latitude']\n",
        "neighbourhood_longitude=Toronto4.loc[53,'Longitude']\n",
        "neighbourhood_name = Toronto4.loc[53,'Neighbourhood']\n",
        "radius = 1000\n",
        "LIMIT = 10"
      ],
      "execution_count": 0,
      "outputs": []
    },
    {
      "cell_type": "code",
      "metadata": {
        "id": "NBXa9puVqfxL",
        "colab_type": "code",
        "colab": {
          "base_uri": "https://localhost:8080/",
          "height": 54
        },
        "outputId": "6c7150ec-1ebf-4f35-ec03-50b262e03fc6"
      },
      "source": [
        "url = 'https://api.foursquare.com/v2/venues/explore?&client_id={}&client_secret={}&v={}&ll={},{}&radius={}&limit={}'.format(\n",
        "    CLIENT_ID, \n",
        "    CLIENT_SECRET, \n",
        "    VERSION, \n",
        "    neighbourhood_latitude, \n",
        "    neighbourhood_longitude, \n",
        "    radius, \n",
        "    LIMIT)\n",
        "url # display URL"
      ],
      "execution_count": 229,
      "outputs": [
        {
          "output_type": "execute_result",
          "data": {
            "text/plain": [
              "'https://api.foursquare.com/v2/venues/explore?&client_id=1SHMANHM4J44TRJGHF1PXMBNUG0BDB5J2LJ3RN0VRYQPZZVP&client_secret=ORLLNBGEVE1I24KFEHUNFZUHE1MX54T1DRE5C2RYJIL3ANQI&v=20180605&ll=43.6542599,-79.3606359&radius=1000&limit=10'"
            ]
          },
          "metadata": {
            "tags": []
          },
          "execution_count": 229
        }
      ]
    },
    {
      "cell_type": "code",
      "metadata": {
        "id": "fWX9TVdaqqP7",
        "colab_type": "code",
        "colab": {}
      },
      "source": [
        "results = requests.get(url).json()\n"
      ],
      "execution_count": 0,
      "outputs": []
    },
    {
      "cell_type": "code",
      "metadata": {
        "id": "1J2aGXkjzfzu",
        "colab_type": "code",
        "colab": {
          "base_uri": "https://localhost:8080/",
          "height": 359
        },
        "outputId": "c0a6d6f6-073d-41d6-a441-adf7aacac672"
      },
      "source": [
        "#Turning json into table \n",
        "venues = results['response']['groups'][0]['items']\n",
        "    \n",
        "nearby_venues = json_normalize(venues) # flatten JSON\n",
        "\n",
        "# filter columns\n",
        "filtered_columns = ['venue.name', 'venue.categories', 'venue.location.lat', 'venue.location.lng']\n",
        "nearby_venues =nearby_venues.loc[:, filtered_columns]\n",
        "\n",
        "# filter the category for each row\n",
        "nearby_venues['venue.categories'] = nearby_venues.apply(get_category_type, axis=1)\n",
        "\n",
        "# clean columns\n",
        "nearby_venues.columns = [col.split(\".\")[-1] for col in nearby_venues.columns]\n",
        "\n",
        "nearby_venues.head(10)"
      ],
      "execution_count": 231,
      "outputs": [
        {
          "output_type": "execute_result",
          "data": {
            "text/html": [
              "<div>\n",
              "<style scoped>\n",
              "    .dataframe tbody tr th:only-of-type {\n",
              "        vertical-align: middle;\n",
              "    }\n",
              "\n",
              "    .dataframe tbody tr th {\n",
              "        vertical-align: top;\n",
              "    }\n",
              "\n",
              "    .dataframe thead th {\n",
              "        text-align: right;\n",
              "    }\n",
              "</style>\n",
              "<table border=\"1\" class=\"dataframe\">\n",
              "  <thead>\n",
              "    <tr style=\"text-align: right;\">\n",
              "      <th></th>\n",
              "      <th>name</th>\n",
              "      <th>categories</th>\n",
              "      <th>lat</th>\n",
              "      <th>lng</th>\n",
              "    </tr>\n",
              "  </thead>\n",
              "  <tbody>\n",
              "    <tr>\n",
              "      <th>0</th>\n",
              "      <td>Roselle Desserts</td>\n",
              "      <td>Bakery</td>\n",
              "      <td>43.653447</td>\n",
              "      <td>-79.362017</td>\n",
              "    </tr>\n",
              "    <tr>\n",
              "      <th>1</th>\n",
              "      <td>Tandem Coffee</td>\n",
              "      <td>Coffee Shop</td>\n",
              "      <td>43.653559</td>\n",
              "      <td>-79.361809</td>\n",
              "    </tr>\n",
              "    <tr>\n",
              "      <th>2</th>\n",
              "      <td>Cooper Koo Family YMCA</td>\n",
              "      <td>Distribution Center</td>\n",
              "      <td>43.653249</td>\n",
              "      <td>-79.358008</td>\n",
              "    </tr>\n",
              "    <tr>\n",
              "      <th>3</th>\n",
              "      <td>Impact Kitchen</td>\n",
              "      <td>Restaurant</td>\n",
              "      <td>43.656369</td>\n",
              "      <td>-79.356980</td>\n",
              "    </tr>\n",
              "    <tr>\n",
              "      <th>4</th>\n",
              "      <td>The Distillery Historic District</td>\n",
              "      <td>Historic Site</td>\n",
              "      <td>43.650244</td>\n",
              "      <td>-79.359323</td>\n",
              "    </tr>\n",
              "    <tr>\n",
              "      <th>5</th>\n",
              "      <td>Body Blitz Spa East</td>\n",
              "      <td>Spa</td>\n",
              "      <td>43.654735</td>\n",
              "      <td>-79.359874</td>\n",
              "    </tr>\n",
              "    <tr>\n",
              "      <th>6</th>\n",
              "      <td>Distillery Sunday Market</td>\n",
              "      <td>Farmers Market</td>\n",
              "      <td>43.650075</td>\n",
              "      <td>-79.361832</td>\n",
              "    </tr>\n",
              "    <tr>\n",
              "      <th>7</th>\n",
              "      <td>Rooster Coffee</td>\n",
              "      <td>Coffee Shop</td>\n",
              "      <td>43.651900</td>\n",
              "      <td>-79.365609</td>\n",
              "    </tr>\n",
              "    <tr>\n",
              "      <th>8</th>\n",
              "      <td>Corktown Common</td>\n",
              "      <td>Park</td>\n",
              "      <td>43.655618</td>\n",
              "      <td>-79.356211</td>\n",
              "    </tr>\n",
              "    <tr>\n",
              "      <th>9</th>\n",
              "      <td>Arvo</td>\n",
              "      <td>Coffee Shop</td>\n",
              "      <td>43.649963</td>\n",
              "      <td>-79.361442</td>\n",
              "    </tr>\n",
              "  </tbody>\n",
              "</table>\n",
              "</div>"
            ],
            "text/plain": [
              "                               name           categories        lat        lng\n",
              "0                  Roselle Desserts               Bakery  43.653447 -79.362017\n",
              "1                     Tandem Coffee          Coffee Shop  43.653559 -79.361809\n",
              "2            Cooper Koo Family YMCA  Distribution Center  43.653249 -79.358008\n",
              "3                    Impact Kitchen           Restaurant  43.656369 -79.356980\n",
              "4  The Distillery Historic District        Historic Site  43.650244 -79.359323\n",
              "5               Body Blitz Spa East                  Spa  43.654735 -79.359874\n",
              "6          Distillery Sunday Market       Farmers Market  43.650075 -79.361832\n",
              "7                    Rooster Coffee          Coffee Shop  43.651900 -79.365609\n",
              "8                   Corktown Common                 Park  43.655618 -79.356211\n",
              "9                              Arvo          Coffee Shop  43.649963 -79.361442"
            ]
          },
          "metadata": {
            "tags": []
          },
          "execution_count": 231
        }
      ]
    },
    {
      "cell_type": "code",
      "metadata": {
        "id": "3yDARj-FyCBj",
        "colab_type": "code",
        "colab": {}
      },
      "source": [
        ""
      ],
      "execution_count": 0,
      "outputs": []
    }
  ]
}